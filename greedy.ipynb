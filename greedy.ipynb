{
  "nbformat": 4,
  "nbformat_minor": 0,
  "metadata": {
    "colab": {
      "name": "greedy.ipynb",
      "provenance": [],
      "authorship_tag": "ABX9TyMe2qP234VE7O469bKdOFsH",
      "include_colab_link": true
    },
    "kernelspec": {
      "name": "python3",
      "display_name": "Python 3"
    },
    "language_info": {
      "name": "python"
    }
  },
  "cells": [
    {
      "cell_type": "markdown",
      "metadata": {
        "id": "view-in-github",
        "colab_type": "text"
      },
      "source": [
        "<a href=\"https://colab.research.google.com/github/mingggkeee/algorithm_study/blob/main/greedy.ipynb\" target=\"_parent\"><img src=\"https://colab.research.google.com/assets/colab-badge.svg\" alt=\"Open In Colab\"/></a>"
      ]
    },
    {
      "cell_type": "code",
      "metadata": {
        "colab": {
          "base_uri": "https://localhost:8080/"
        },
        "id": "-fTG5EhbhrLG",
        "outputId": "0d90578e-4f9b-4563-e9ef-19d41da1fbf1"
      },
      "source": [
        "# 거스름돈\n",
        "\n",
        "n = 1260\n",
        "count = 0\n",
        "\n",
        "coin_types = [500, 100, 50, 10]\n",
        "\n",
        "for coin in coin_types:\n",
        "    count += n // coin\n",
        "    n %= coin\n",
        "\n",
        "print(count)"
      ],
      "execution_count": 1,
      "outputs": [
        {
          "output_type": "stream",
          "text": [
            "6\n"
          ],
          "name": "stdout"
        }
      ]
    },
    {
      "cell_type": "code",
      "metadata": {
        "colab": {
          "base_uri": "https://localhost:8080/"
        },
        "id": "X5DdqeY9h82O",
        "outputId": "3d41868a-73b2-4bd2-8a70-a8c8339811cd"
      },
      "source": [
        "# 큰 수의 법칙\n",
        "\n",
        "N, M, K = map(int, input().split())\n",
        "inputlist = list(map(int, input().split()))\n",
        "\n",
        "inputlist.sort(reverse=True)\n",
        "num1 = inputlist[0]\n",
        "num2 = inputlist[1]\n",
        "\n",
        "cnt = 0\n",
        "cnt2 = 0\n",
        "answer = 0\n",
        "while True:\n",
        "    if cnt2 == K:\n",
        "        answer += num2\n",
        "        cnt2 = 0\n",
        "        cnt += 1\n",
        "    else:\n",
        "        answer += num1\n",
        "        cnt2 += 1\n",
        "        cnt += 1\n",
        "    if cnt == M:\n",
        "        break\n",
        "print(answer)"
      ],
      "execution_count": 2,
      "outputs": [
        {
          "output_type": "stream",
          "text": [
            "5 8 3\n",
            "2 4 5 4 6\n",
            "46\n"
          ],
          "name": "stdout"
        }
      ]
    },
    {
      "cell_type": "code",
      "metadata": {
        "colab": {
          "base_uri": "https://localhost:8080/"
        },
        "id": "nTlCywZ5n2Kg",
        "outputId": "24a9be6b-a199-4c32-fa59-de476f0f0900"
      },
      "source": [
        "# 큰 수의 법칙\n",
        "n,m,k = map(int, input().split())\n",
        "data = list(map(int, input().split()))\n",
        "\n",
        "data.sort()\n",
        "first = data[n-1]\n",
        "second = data[n-2]\n",
        "\n",
        "# 가장 큰 수가 더해지는 횟수 계산\n",
        "count = int(m / (k+1)) * k\n",
        "count += m % (k + 1)\n",
        "\n",
        "result = 0\n",
        "result += (count) * first # 가장 큰 수 더하기\n",
        "result += (m - count) * second # 두 번째로 큰 수 더하기\n",
        "\n",
        "print(result)"
      ],
      "execution_count": 3,
      "outputs": [
        {
          "output_type": "stream",
          "text": [
            "5 8 3\n",
            "2 4 5 4 6\n",
            "46\n"
          ],
          "name": "stdout"
        }
      ]
    },
    {
      "cell_type": "code",
      "metadata": {
        "colab": {
          "base_uri": "https://localhost:8080/"
        },
        "id": "GSM1GY7JsRxU",
        "outputId": "3c8f227c-cddb-4fbd-f03d-231044e5c511"
      },
      "source": [
        "# 숫자 카드 게임\n",
        "\n",
        "n, m = map(int, input().split()) # 행, 열 입력 받기\n",
        "\n",
        "answer = 0\n",
        "\n",
        "for i in range(n):\n",
        "    data = list(map(int, input().split()))\n",
        "    value = min(data)\n",
        "    answer = max(answer, value)\n",
        "\n",
        "print(answer)"
      ],
      "execution_count": 5,
      "outputs": [
        {
          "output_type": "stream",
          "text": [
            "2 4\n",
            "7 3 1 8\n",
            "3 3 3 4\n",
            "3\n"
          ],
          "name": "stdout"
        }
      ]
    },
    {
      "cell_type": "code",
      "metadata": {
        "colab": {
          "base_uri": "https://localhost:8080/"
        },
        "id": "FKUcyWLTuYBa",
        "outputId": "cbdb9500-74c3-4ea3-9811-c24fcb56838a"
      },
      "source": [
        "# 1이 될 때 까지\n",
        "\n",
        "n, k = map(int, input().split())\n",
        "count = 0\n",
        "\n",
        "while True:\n",
        "    if n == 1:\n",
        "        break\n",
        "    if n % k == 0:\n",
        "        n /= k\n",
        "        count += 1\n",
        "    else:\n",
        "        n -= 1\n",
        "        count += 1\n",
        "\n",
        "\n",
        "print(count)"
      ],
      "execution_count": 8,
      "outputs": [
        {
          "output_type": "stream",
          "text": [
            "25 3\n",
            "6\n"
          ],
          "name": "stdout"
        }
      ]
    },
    {
      "cell_type": "code",
      "metadata": {
        "colab": {
          "base_uri": "https://localhost:8080/"
        },
        "id": "XEXB-vkjvczo",
        "outputId": "40e92ef2-7048-4908-e5ac-919ec307b9bc"
      },
      "source": [
        "# 1이 될 때 까지\n",
        "\n",
        "n, k = map(int, input().split())\n",
        "result = 0\n",
        "\n",
        "while True:\n",
        "    # (N == K로 나누어떨어지는 수)가 될 때 까지 1씩 빼기\n",
        "    target = (n // k) * k\n",
        "    result += (n - target)\n",
        "    n = target\n",
        "    # n이 k보다 작을 때(더 이상 나눌 수 없을 때) 반복문 탈출\n",
        "    if n < k:\n",
        "        break\n",
        "    # k로 나누기\n",
        "    result += 1\n",
        "    n //= k\n",
        "\n",
        "# 마지막으로 남은 수에 대하여 1씩 빼기\n",
        "result += (n - 1)\n",
        "print(result)"
      ],
      "execution_count": 9,
      "outputs": [
        {
          "output_type": "stream",
          "text": [
            "25 3\n",
            "6\n"
          ],
          "name": "stdout"
        }
      ]
    },
    {
      "cell_type": "code",
      "metadata": {
        "id": "xb2kZ9rvwMzy"
      },
      "source": [
        ""
      ],
      "execution_count": null,
      "outputs": []
    }
  ]
}