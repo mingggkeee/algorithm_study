{
 "metadata": {
  "language_info": {
   "codemirror_mode": {
    "name": "ipython",
    "version": 3
   },
   "file_extension": ".py",
   "mimetype": "text/x-python",
   "name": "python",
   "nbconvert_exporter": "python",
   "pygments_lexer": "ipython3",
   "version": "3.8.10"
  },
  "orig_nbformat": 2,
  "kernelspec": {
   "name": "python3810jvsc74a57bd0d4f083a7fa1d632f3ea86866ddf8c4c5ce9bed1c588ac8dc3a0713b496b78046",
   "display_name": "Python 3.8.10 64-bit ('mingggkeee': conda)"
  },
  "metadata": {
   "interpreter": {
    "hash": "d4f083a7fa1d632f3ea86866ddf8c4c5ce9bed1c588ac8dc3a0713b496b78046"
   }
  }
 },
 "nbformat": 4,
 "nbformat_minor": 2,
 "cells": [
  {
   "cell_type": "code",
   "execution_count": 4,
   "metadata": {},
   "outputs": [
    {
     "output_type": "stream",
     "name": "stdout",
     "text": [
      "20\n"
     ]
    }
   ],
   "source": [
    "# 로프\n",
    "\n",
    "N = int(input())\n",
    "weight = []\n",
    "\n",
    "for i in range(N):\n",
    "    weight.append(int(input()))\n",
    "\n",
    "weight.sort()\n",
    "\n",
    "weight2 = []\n",
    "\n",
    "for i in range(N):\n",
    "    count = N - i \n",
    "    weight_sum = weight[i] \n",
    "    weight2.append(weight_sum*count)\n",
    "\n",
    "print(max(weight2))"
   ]
  },
  {
   "cell_type": "code",
   "execution_count": 10,
   "metadata": {},
   "outputs": [
    {
     "output_type": "stream",
     "name": "stdout",
     "text": [
      "[[1, 4], [6, 1], [4, 2]]\n"
     ]
    }
   ],
   "source": [
    "# 신입사원\n",
    "\n",
    "import sys\n",
    "\n",
    "T = int(input()) #테스트케이스\n",
    "\n",
    "for i in range(0,T):\n",
    "    Cnt = 1\n",
    "    people = []\n",
    "    \n",
    "    N = int(input())\n",
    "    for i in range(N):\n",
    "        Paper, Interview = map(int,sys.stdin.readline().split())\n",
    "        people.append([Paper, Interview])\n",
    "\n",
    "    people.sort() # 서류 기준 오름차순 정렬\n",
    "    Max = people[0][1]\n",
    "    \n",
    "    for i in range(1,N):\n",
    "        if Max > people[i][1]:\n",
    "            Cnt += 1\n",
    "            Max = people[i][1]\n",
    "\n",
    "    print(Cnt)"
   ]
  },
  {
   "cell_type": "code",
   "execution_count": 18,
   "metadata": {},
   "outputs": [],
   "source": [
    "# 단어 수학\n",
    "\n",
    "N = int(input())\n",
    "words = []\n",
    "for _ in range(N):\n",
    "    words.append(str(input()))\n",
    "\n",
    "dict = {}\n",
    "\n",
    "for word in words:\n",
    "    k = len(word)-1\n",
    "    for s in word:\n",
    "        if s in dict:\n",
    "            dict[s] += pow(10,k)\n",
    "        else:\n",
    "            dict[s] = pow(10,k)\n",
    "        k -= 1\n",
    "\n",
    "nums = []\n",
    "\n",
    "for value in dict.values():\n",
    "    nums.append(value)\n",
    "\n",
    "nums.sort(reverse=True)\n",
    "\n",
    "result, t = 0, 9\n",
    "\n",
    "for i in range(len(nums)):\n",
    "    result += nums[i] * t\n",
    "    t -= 1\n",
    "\n",
    "print(result)"
   ]
  },
  {
   "cell_type": "code",
   "execution_count": 19,
   "metadata": {},
   "outputs": [
    {
     "output_type": "execute_result",
     "data": {
      "text/plain": [
       "['acdeb', 'gcf']"
      ]
     },
     "metadata": {},
     "execution_count": 19
    }
   ],
   "source": [
    "words"
   ]
  },
  {
   "cell_type": "code",
   "execution_count": null,
   "metadata": {},
   "outputs": [],
   "source": []
  }
 ]
}