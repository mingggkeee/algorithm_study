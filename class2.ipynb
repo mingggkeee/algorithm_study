{
 "metadata": {
  "language_info": {
   "codemirror_mode": {
    "name": "ipython",
    "version": 3
   },
   "file_extension": ".py",
   "mimetype": "text/x-python",
   "name": "python",
   "nbconvert_exporter": "python",
   "pygments_lexer": "ipython3",
   "version": "3.7.9-final"
  },
  "orig_nbformat": 2,
  "kernelspec": {
   "name": "python3",
   "display_name": "Python 3",
   "language": "python"
  }
 },
 "nbformat": 4,
 "nbformat_minor": 2,
 "cells": [
  {
   "cell_type": "code",
   "execution_count": 6,
   "metadata": {},
   "outputs": [
    {
     "output_type": "stream",
     "name": "stdout",
     "text": [
      "20 Sunyoung\n21 Junkyu\n21 Dohyun\n"
     ]
    }
   ],
   "source": [
    "member_num = int(input())\n",
    "member_list = []\n",
    "\n",
    "for _ in range(member_num):\n",
    "    member_age, member_name = map(str, input().split())\n",
    "    member_age = int(member_age)\n",
    "    member_list.append((member_age, member_name))\n",
    "\n",
    "#나이 숫자 정렬 > 가입순 정렬\n",
    "member_list.sort(key = lambda member: (member[0]))\n",
    "\n",
    "for member in member_list:\n",
    "    print(member[0], member[1])"
   ]
  },
  {
   "cell_type": "code",
   "execution_count": 3,
   "metadata": {},
   "outputs": [
    {
     "output_type": "stream",
     "name": "stdout",
     "text": [
      "1 -1\n1 1\n2 2\n3 3\n3 4\n"
     ]
    }
   ],
   "source": [
    "# 11650 \n",
    "\n",
    "N = int(input())\n",
    "num_list = []\n",
    "\n",
    "for i in range(N):\n",
    "    x, y = map(int, input().split())\n",
    "    num_list.append((x, y))\n",
    "\n",
    "num_list.sort(key = lambda num: (num[0], num[1]))\n",
    "\n",
    "for num in num_list:\n",
    "    print(num[0], num[1])"
   ]
  }
 ]
}