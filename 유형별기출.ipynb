{
 "metadata": {
  "language_info": {
   "codemirror_mode": {
    "name": "ipython",
    "version": 3
   },
   "file_extension": ".py",
   "mimetype": "text/x-python",
   "name": "python",
   "nbconvert_exporter": "python",
   "pygments_lexer": "ipython3",
   "version": "3.9.4"
  },
  "orig_nbformat": 2,
  "kernelspec": {
   "name": "python394jvsc74a57bd0737adab86a857289fc3bb162d0b4f640b26cc80f7c2ae1cce2eb6b9aa0f64168",
   "display_name": "Python 3.9.4 64-bit ('base': conda)"
  },
  "metadata": {
   "interpreter": {
    "hash": "737adab86a857289fc3bb162d0b4f640b26cc80f7c2ae1cce2eb6b9aa0f64168"
   }
  }
 },
 "nbformat": 4,
 "nbformat_minor": 2,
 "cells": [
  {
   "source": [
    "# 그리디 알고리즘"
   ],
   "cell_type": "markdown",
   "metadata": {}
  },
  {
   "source": [
    "## Q1 모험가 길드\n",
    "\n",
    "한 마을에 모험가가 N명 있습니다. 모험가 길드에서는 N명의 모험가를 대상으로 '공포도'를 측정했는데, '공포도'가 높은 모험가는 쉽게 공포를 느껴 위험 상황에서 제대로 대처할 능력이 떨어집니다. 모험가 길드장인 동빈이는 모험가 그룹을 안전하게 구성하고자 공포도가 X인 모험가는 반드시 X명 이상으로 구성한 모험가 그룹에 참여해야 여행을 떠날 수 있도록 규정했습니다. 동빈이는 최대 몇개의 모험가 그룹을 만들 수 있는지 궁금합니다.\n",
    "동빈이를 위해 N명의 모험가에 대한 정보가 주어졌을 때, 여행을 떠날 수 있는 그룹 수의 최댓값을 구하는 프로그램을 작성하세요.\n",
    "예를 들어 N=5이고, 각 모험가의 공포도가 다음과 같다고 가정합시다.\n",
    "```\n",
    "2 3 1 2 2\n",
    "```\n",
    "이때, 그룹 1에 공포도가 1, 2, 3인 모험가를 한 명씩 넣고, 그룹 2에 공포도가 2인 남은 두 명을 넣게 되면, 총 2개의 그룹을 만들 수 있습니다. 또한 몇 명의 모험가는 마을에 그대로 남아 있어도 되기 때문에, 모든 모험가를 특정한 그룹에 넣을 필요는 없습니다.\n",
    "\n",
    "### 입력 조건\n",
    "- 첫째 줄에 모험가의 수 N이 주어집니다. (1 <= N <= 100,000)\n",
    "- 둘째 줄에 각 모험가의 공포도의 값을 N 이하의 자연수로 주어지며, 각 자연수는 공백으로 구분합니다.\n",
    "\n",
    "### 출력 조건\n",
    "- 여행을 떠날 수 있는 그룹 수의 최댓값을 출력합니다.\n",
    "\n",
    "```\n",
    "입력 예시\n",
    "5\n",
    "2 3 1 2 2\n",
    "```\n",
    "\n",
    "```\n",
    "출력 예시\n",
    "2\n",
    "```"
   ],
   "cell_type": "markdown",
   "metadata": {}
  },
  {
   "cell_type": "code",
   "execution_count": 12,
   "metadata": {},
   "outputs": [
    {
     "output_type": "stream",
     "name": "stdout",
     "text": [
      "6\n"
     ]
    }
   ],
   "source": [
    "# 내가 푼 모험가 길드 풀이\n",
    "n = int(input())\n",
    "people = list(map(int, input().split()))\n",
    "\n",
    "# 내림차순 정렬\n",
    "people.sort(reverse=True)\n",
    "cnt = 0\n",
    "while True:\n",
    "    leng = len(people)\n",
    "    if leng == 0:\n",
    "        break\n",
    "    a = people[0]\n",
    "    if leng-a >= 0 and a <= leng:\n",
    "        people = people[a:]\n",
    "        cnt += 1\n",
    "    else:\n",
    "        break\n",
    "\n",
    "print(cnt)"
   ]
  },
  {
   "cell_type": "code",
   "execution_count": 13,
   "metadata": {},
   "outputs": [
    {
     "output_type": "stream",
     "name": "stdout",
     "text": [
      "2\n"
     ]
    }
   ],
   "source": [
    "# 모범 답안\n",
    "n = int(input())\n",
    "data = list(map(int, input().split()))\n",
    "data.sort()\n",
    "\n",
    "result = 0 # 총 그룹의 수\n",
    "\n",
    "count = 0 # 현재 그룹에 포함된 모험가의 수\n",
    "\n",
    "for i in data:\n",
    "    count += 1  # 현재 그룹에 해당 모험가 포함시키기\n",
    "    if count >= i: # 현재 그룹에 포함된 모험가의 수가 현재의 공포도 이상이라면, 그룹 결성\n",
    "        result += 1\n",
    "        count = 0\n",
    "\n",
    "print(result)"
   ]
  },
  {
   "source": [
    "## Q2 곱하기 혹은 더하기\n",
    "\n",
    "각 자리가 숫자(0부터 9)로만 이루어진 문자열 S가 주어졌을 때, 왼쪽부터 오른쪽으로 하나씩 모든 숫자를 확인하며 숫자 사이에 'x'혹은 '+'연산자를 넣어 결과적으로 만들어 질 수 있는 가장 큰 수를 구하는 프로그램을 작성하세요, 단, +보다 x를 먼저 계산하는 일반적인 방식과는 달리, 모든 연산은 왼쪽에서부터 순서대로 이루어진다고 가정합니다.\n",
    "예를 들어 02984라는 문자열이 주어지면, 만들어질 수 있는 가장 큰 수는 ((((0+2) x 9) x 8) x 4) = 576 입니다. 또한 만들어질 수 있는 가장 큰 수는 항상 20억 이하의 정수가 되도록 입력이 주어집니다.\n",
    "\n",
    "### 입력 조건\n",
    "- 첫째 줄에 여러 개의 숫자로 구성된 하나의 문자열 S가 주어집니다.(1 <= S의 길이 <= 20)\n",
    "### 출력 조건\n",
    "- 첫째 줄에 만들어질 수 있는 가장 큰 수를 출력합니다.\n",
    "\n",
    "```\n",
    "입력 예시 1\n",
    "02984\n",
    "출력 예시 1\n",
    "576\n",
    "```\n",
    "\n",
    "```\n",
    "입력 예시 2\n",
    "567\n",
    "출력 예시 2\n",
    "210\n",
    "```"
   ],
   "cell_type": "markdown",
   "metadata": {}
  },
  {
   "cell_type": "code",
   "execution_count": 20,
   "metadata": {},
   "outputs": [
    {
     "output_type": "stream",
     "name": "stdout",
     "text": [
      "576\n"
     ]
    }
   ],
   "source": [
    "# 더하기 혹은 곱하기\n",
    "\n",
    "s = input()\n",
    "\n",
    "result = int(s[0])\n",
    "\n",
    "for i in range(1, len(s)):\n",
    "    num = int(s[i])\n",
    "    if num <= 1 or result <= 1:\n",
    "        result += num\n",
    "    else:\n",
    "        result *= num\n",
    "\n",
    "print(result)"
   ]
  },
  {
   "source": [
    "## Q3 문자열 뒤집기\n",
    "\n",
    "다솜이는 0과 1로만 이루어진 문자열 S를 가지고 있습니다. 다솜이는 이 문자열 S에 있는 모든 숫자를 전부 같게 만들려고 합니다. 다솜이가 할 수 있는 행동은 S에서 연속된 하나 이상의 숫자를 잡고 모두 뒤집는 것입니다. 뒤집는 것은 1을 0으로 0을 1로 바꾸는 것을 의미합니다.\n",
    "예를 들어 S = 0001100일 때는 다음과 같습니다.<br><br>\n",
    "1. 전체를 뒤집으면 1110011이 됩니다.<br><br>\n",
    "2. 4번째 문자부터 5번째 문자까지 뒤집으면 1111111이 되어서 두 번 만에 모두 같은 숫자로 만들 수 있습니다.<br><br>\n",
    "\n",
    "하지만, 처음부터 4번째 문자부터 5번째 문자까지 뒤집으면 한 번에 0000000이 되어서 1번만에 모두 같은 숫자로 만들 수 있습니다. <br>\n",
    "문자열 S가 주어졌을 때, 다솜이가 해야 하는 행동의 최소 횟수를 출력하세요.\n",
    "\n",
    "### 입력 조건\n",
    "- 첫째 줄에 0과 1로만 이루어진 문자열 S가 주어집니다. S의 길이는 100만보다 작습니다.\n",
    "### 출력 조건\n",
    "- 첫째 줄에 다솜이가 해야하는 행동의 최소 횟수를 출력합니다."
   ],
   "cell_type": "markdown",
   "metadata": {}
  },
  {
   "cell_type": "code",
   "execution_count": 25,
   "metadata": {},
   "outputs": [
    {
     "output_type": "stream",
     "name": "stdout",
     "text": [
      "1\n"
     ]
    }
   ],
   "source": [
    "# 문자열 뒤집기\n",
    "\n",
    "s = input()\n",
    "\n",
    "a = s.count('0')\n",
    "b = s.count('1')\n",
    "if a > b: c = '0' \n",
    "else: c= '1'\n",
    "\n",
    "cnt = 0\n",
    "temp = 0\n",
    "for i in s:\n",
    "    if i == c and temp != 0:\n",
    "        cnt +=1\n",
    "        temp = 0\n",
    "    elif i == c:\n",
    "        pass\n",
    "    else:\n",
    "        temp = 1\n",
    "print(cnt)"
   ]
  },
  {
   "cell_type": "code",
   "execution_count": 26,
   "metadata": {},
   "outputs": [
    {
     "output_type": "stream",
     "name": "stdout",
     "text": [
      "0001100\n1\n"
     ]
    }
   ],
   "source": [
    "# 문자열 뒤집기 답안 예시\n",
    "\n",
    "data = input()\n",
    "print(data)\n",
    "count0 = 0 # 전부 0으로 바꾸는 경우\n",
    "count1 = 0 # 전부 1로 바꾸는 경우\n",
    "\n",
    "# 첫 번째 원소에 대해서 처리\n",
    "\n",
    "if data[0] == '1':\n",
    "    count0 += 1\n",
    "else:\n",
    "    count1 += 1\n",
    "\n",
    "# 두 번째 원소부터 모든 원소를 확인하며\n",
    "for i in range(len(data) - 1):\n",
    "    if data[i] != data[i+1]:\n",
    "        # 다음 수에서 1로 바뀌는 경우\n",
    "        if data[i+1] == '1':\n",
    "            count0 += 1\n",
    "        # 다음 수에서 0으로 바뀌는 경우\n",
    "        else:\n",
    "            count1 += 1\n",
    "\n",
    "print(min(count0, count1))"
   ]
  },
  {
   "source": [
    "## Q4 만들 수 없는 금액\n",
    "\n",
    "동네 편의점의 주인인 동빈이는 N개의 동전을 가지고 있습니다. 이때 N개의 동전을 이용하여 만들 수 없는 양의 정수 금액 중 최솟값을 구하는 프로그램을 작성하세요.<br>\n",
    "예를 들어, N = 5이고, 각 동전이 각각 3원, 2원, 1원, 9원짜리(화폐 단위) 동전이라고 가정합시다. 이때 동빈이가 만들 수 없는 양의 정수 금액 중 최솟값은 8원입니다.<br>\n",
    "또 다른 예시로, N = 3이고, 각 동전이 각각 3원, 5원, 7원짜리(화폐 단위) 동전이라고 가정합시다. 이때 동빈이가 만들 수 없는 양의 정수 금액 중 최솟값은 1원입니다.\n",
    "\n",
    "### 입력 조건\n",
    "- 첫째 줄에는 동전의 개수를 나타내는 양의 정수 N이 주어집니다.(1<=N<=1,000)\n",
    "- 둘째 줄에는 각 동전의 화폐 단위를 나타내는 N개의 자연수가 주어지며, 각 자연수는 공백으로 구분합니다. 이때, 각 화폐 단위는 1,000,000 이하의 자연수입니다.\n",
    "### 출력 조건\n",
    "- 첫째 줄에 주어진 동전들로 만들 수 없는 양의 정수 금액 중 최솟값을 출력합니다.\n",
    "\n",
    "```\n",
    "입력 예시\n",
    "5\n",
    "3 2 1 1 9\n",
    "```\n",
    "\n",
    "```\n",
    "출력 예시\n",
    "8\n",
    "```"
   ],
   "cell_type": "markdown",
   "metadata": {}
  },
  {
   "cell_type": "code",
   "execution_count": null,
   "metadata": {},
   "outputs": [],
   "source": [
    "n = int(input())\n",
    "coin = list(map(int, input().split()))\n",
    "\n",
    "coin.sort()\n",
    "\n",
    "if coin[0] > 1:\n",
    "    print(1)\n",
    "\n",
    "else:\n",
    "    "
   ]
  }
 ]
}